{
 "cells": [
  {
   "cell_type": "markdown",
   "id": "335c9c34-cd55-4865-b389-b93679f97923",
   "metadata": {},
   "source": [
    "# Q1. Write a program to find all pairs of an integer array whose sum is equal to a given number?"
   ]
  },
  {
   "cell_type": "code",
   "execution_count": 6,
   "id": "d5d4d82a-ce0c-42e7-811f-aee220d9bb22",
   "metadata": {},
   "outputs": [
    {
     "name": "stdout",
     "output_type": "stream",
     "text": [
      "Pairs of elements in the array whose sum is equal to 10 :\n",
      "(6, 4)\n",
      "(7, 3)\n",
      "(8, 2)\n",
      "(9, 1)\n"
     ]
    }
   ],
   "source": [
    "def find_pairs_with_sum(arr, target_sum):\n",
    "    seen = set()\n",
    "    pairs = []\n",
    "    for num in arr:\n",
    "        counterpart = target_sum - num\n",
    "        if counterpart in seen:\n",
    "            pairs.append((num, counterpart))\n",
    "        seen.add(num)\n",
    "    return pairs\n",
    "\n",
    "arr = [1, 2, 3, 4, 5, 6, 7, 8, 9]\n",
    "target_sum = 10\n",
    "result = find_pairs_with_sum(arr, target_sum)\n",
    "\n",
    "if result:\n",
    "    print(\"Pairs of elements in the array whose sum is equal to\", target_sum, \":\")\n",
    "    for pair in result:\n",
    "        print(pair)\n",
    "else:\n",
    "    print(\"No pairs of elements in the array add up to\", target_sum)"
   ]
  },
  {
   "cell_type": "markdown",
   "id": "7c50e9bb-86da-4690-bd9f-9a74b0141934",
   "metadata": {},
   "source": [
    "# Q2. Write a program to reverse an array in place? In place means you cannot create a new array. You have to update the original array."
   ]
  },
  {
   "cell_type": "code",
   "execution_count": 7,
   "id": "1e912a74-468f-48a3-a58b-33efc765706f",
   "metadata": {},
   "outputs": [
    {
     "name": "stdout",
     "output_type": "stream",
     "text": [
      "[5, 4, 3, 2, 1]\n"
     ]
    }
   ],
   "source": [
    "def reverse_array(arr):\n",
    "    n = len(arr)\n",
    "    for i in range(n//2):\n",
    "        arr[i], arr[n-i-1] = arr[n-i-1], arr[i]\n",
    "\n",
    "arr = [1, 2, 3, 4, 5]\n",
    "reverse_array(arr)\n",
    "print(arr)"
   ]
  },
  {
   "cell_type": "markdown",
   "id": "d52809e3-3b02-4afb-92c9-4c020c837c2b",
   "metadata": {},
   "source": [
    "# Q3. Write a program to check if two strings are a rotation of each other?"
   ]
  },
  {
   "cell_type": "code",
   "execution_count": 8,
   "id": "e57312ca-57fb-42aa-a351-37b9bc39018c",
   "metadata": {},
   "outputs": [
    {
     "name": "stdout",
     "output_type": "stream",
     "text": [
      "\"waterbottle\" and \"erbottlewat\" are a rotation of each other.\n"
     ]
    }
   ],
   "source": [
    "def is_rotation(string1, string2):\n",
    "    if len(string1) != len(string2):\n",
    "        return False\n",
    "    return (string1 + string1).find(string2) != -1\n",
    "\n",
    "string1 = \"waterbottle\"\n",
    "string2 = \"erbottlewat\"\n",
    "if is_rotation(string1, string2):\n",
    "    print(f'\"{string1}\" and \"{string2}\" are a rotation of each other.')\n",
    "else:\n",
    "    print(f'\"{string1}\" and \"{string2}\" are not a rotation of each other.')"
   ]
  },
  {
   "cell_type": "markdown",
   "id": "ffc79e7d-6f4e-4093-b70a-dc4704b53086",
   "metadata": {},
   "source": [
    "# Q4. Write a program to print the first non-repeated character from a string?"
   ]
  },
  {
   "cell_type": "code",
   "execution_count": 9,
   "id": "69972ea1-4219-44e6-8871-8cb7736499fb",
   "metadata": {},
   "outputs": [
    {
     "name": "stdout",
     "output_type": "stream",
     "text": [
      "The first non-repeated character in 'edyoda' is: e\n"
     ]
    }
   ],
   "source": [
    "def first_non_repeated_char(string):\n",
    "    char_count = {}\n",
    "    for char in string:\n",
    "        if char in char_count:\n",
    "            char_count[char] += 1\n",
    "        else:\n",
    "            char_count[char] = 1\n",
    "    for char in string:\n",
    "        if char_count[char] == 1:\n",
    "            return char\n",
    "    return None\n",
    "\n",
    "string = \"edyoda\"\n",
    "print(f\"The first non-repeated character in '{string}' is: {first_non_repeated_char(string)}\")"
   ]
  },
  {
   "cell_type": "markdown",
   "id": "4b995314-23f7-4598-a91d-32d51484aeb6",
   "metadata": {
    "tags": []
   },
   "source": [
    "# Q5. Read about the Tower of Hanoi algorithm. Write a program to implement it."
   ]
  },
  {
   "cell_type": "code",
   "execution_count": 10,
   "id": "e50d8a2e-e4af-4850-9d4e-fcd6d63cd679",
   "metadata": {},
   "outputs": [
    {
     "name": "stdin",
     "output_type": "stream",
     "text": [
      "Enter number of discs:  3\n"
     ]
    },
    {
     "name": "stdout",
     "output_type": "stream",
     "text": [
      "Move disc 1 from A to C\n",
      "Move disc 2 from A to B\n",
      "Move disc 1 from C to B\n",
      "Move disc 3 from A to C\n",
      "Move disc 1 from B to A\n",
      "Move disc 2 from B to C\n",
      "Move disc 1 from A to C\n"
     ]
    }
   ],
   "source": [
    "def tower_of_hanoi(n, source, auxiliary, target):\n",
    "    if n == 1:\n",
    "        print(f\"Move disc 1 from {source} to {target}\")\n",
    "        return\n",
    "\n",
    "    tower_of_hanoi(n - 1, source, target, auxiliary)\n",
    "    print(f\"Move disc {n} from {source} to {target}\")\n",
    "    tower_of_hanoi(n - 1, auxiliary, source, target)\n",
    "\n",
    "n = int(input(\"Enter number of discs: \"))\n",
    "tower_of_hanoi(n, \"A\", \"B\", \"C\")"
   ]
  },
  {
   "cell_type": "markdown",
   "id": "cf7886f2-605a-4c34-b504-49907ea1e376",
   "metadata": {},
   "source": [
    "# Q6. Read about infix, prefix, and postfix expressions. Write a program to convert postfix to prefix expression."
   ]
  },
  {
   "cell_type": "code",
   "execution_count": 11,
   "id": "c46dc50a-51e5-42dd-b3b7-7db041975398",
   "metadata": {},
   "outputs": [
    {
     "name": "stdin",
     "output_type": "stream",
     "text": [
      "Enter postfix expression:  1998\n"
     ]
    },
    {
     "name": "stdout",
     "output_type": "stream",
     "text": [
      "Prefix expression:  1\n"
     ]
    }
   ],
   "source": [
    "def postfix_to_prefix(expression):\n",
    "    stack = []\n",
    "    for character in expression:\n",
    "        if character.isdigit():\n",
    "            stack.append(character)\n",
    "        else:\n",
    "            operand1 = stack.pop()\n",
    "            operand2 = stack.pop()\n",
    "            result = character + operand2 + operand1\n",
    "            stack.append(result)\n",
    "\n",
    "    return stack[0]\n",
    "\n",
    "expression = input(\"Enter postfix expression: \")\n",
    "result = postfix_to_prefix(expression)\n",
    "print(\"Prefix expression: \", result)"
   ]
  },
  {
   "cell_type": "markdown",
   "id": "b473fced-1a04-41fc-919c-a5ebc7d11ad8",
   "metadata": {},
   "source": [
    "# Q7.Write a program to convert prefix expression to infix expression."
   ]
  },
  {
   "cell_type": "code",
   "execution_count": 12,
   "id": "43351d8e-ca20-4048-bc9f-21b36f0e0e8b",
   "metadata": {},
   "outputs": [
    {
     "name": "stdout",
     "output_type": "stream",
     "text": [
      "((A-(B/C))*((A/K)-L))\n"
     ]
    }
   ],
   "source": [
    "class Conversion:\n",
    "    def __init__(self, capacity):\n",
    "        self.top = -1\n",
    "        self.capacity = capacity\n",
    "        self.stack = []\n",
    "        self.precedence = {'+':1, '-':1, '*':2, '/':2, '^':3}\n",
    "        self.operators = set(['+', '-', '*', '/', '^'])\n",
    "\n",
    "    def is_empty(self):\n",
    "        if self.top == -1:\n",
    "            return True\n",
    "        else:\n",
    "            return False\n",
    "\n",
    "    def peek(self):\n",
    "        return self.stack[-1]\n",
    "\n",
    "    def pop(self):\n",
    "        if not self.is_empty():\n",
    "            self.top -= 1\n",
    "            return self.stack.pop()\n",
    "        else:\n",
    "            return '$'\n",
    "\n",
    "    def push(self, op):\n",
    "        self.top += 1\n",
    "        self.stack.append(op)\n",
    "\n",
    "    def is_operand(self, ch):\n",
    "        return ch.isalpha()\n",
    "\n",
    "    def not_greater(self, i):\n",
    "        try:\n",
    "            a = self.precedence[i]\n",
    "            b = self.precedence[self.peek()]\n",
    "            if a <= b:\n",
    "                return True\n",
    "            else:\n",
    "                return False\n",
    "        except KeyError:\n",
    "            return False\n",
    "\n",
    "    def infix_to_postfix(self, exp):\n",
    "        for i in exp:\n",
    "            if self.is_operand(i):\n",
    "                print(i, end=\"\")\n",
    "            else:\n",
    "                while (not self.is_empty() and self.not_greater(i)):\n",
    "                    print(self.pop(), end=\"\")\n",
    "                self.push(i)\n",
    "        while not self.is_empty():\n",
    "            print(self.pop(), end=\"\")\n",
    "\n",
    "    def convert(self, exp):\n",
    "        exp = exp[::-1]\n",
    "        for i in exp:\n",
    "            if self.is_operand(i):\n",
    "                self.push(i)\n",
    "            else:\n",
    "                op1 = self.pop()\n",
    "                op2 = self.pop()\n",
    "                self.push(\"(\" + op1 + i + op2 + \")\")\n",
    "        return self.pop()\n",
    "\n",
    "exp = \"*-A/BC-/AKL\"\n",
    "ob = Conversion(len(exp))\n",
    "print(ob.convert(exp))"
   ]
  },
  {
   "cell_type": "markdown",
   "id": "7b0c980f-7151-47af-a1a1-629b973d7dc7",
   "metadata": {},
   "source": [
    "# Q8. Write a program to check if all the brackets are closed in a given code snippet."
   ]
  },
  {
   "cell_type": "code",
   "execution_count": 13,
   "id": "06c79315-ebb4-4d27-a185-b6d967ac52d5",
   "metadata": {},
   "outputs": [
    {
     "name": "stdout",
     "output_type": "stream",
     "text": [
      "Brackets are closed.\n",
      "Brackets are not closed.\n",
      "Brackets are not closed.\n"
     ]
    }
   ],
   "source": [
    "def are_brackets_closed(code):\n",
    "    stack = []\n",
    "    bracket_pairs = {')': '(', '}': '{', ']': '['}\n",
    "    for char in code:\n",
    "        if char in bracket_pairs.values():\n",
    "            stack.append(char)\n",
    "        elif char in bracket_pairs.keys():\n",
    "            if not stack or stack[-1] != bracket_pairs[char]:\n",
    "                return \"Brackets are not closed.\"\n",
    "            stack.pop()\n",
    "    if stack:\n",
    "        return \"Brackets are not closed.\"\n",
    "    else:\n",
    "        return \"Brackets are closed.\"\n",
    "\n",
    "# Test the program with a few examples\n",
    "\n",
    "print(are_brackets_closed(\"{ [ ] ( ) }\")) # Brackets are closed.\n",
    "print(are_brackets_closed(\"{ [ ( ] ) }\")) # Brackets are not closed.\n",
    "print(are_brackets_closed(\"{ [ }\")) # Brackets are not closed.\n"
   ]
  },
  {
   "cell_type": "markdown",
   "id": "56c5fbc4-29dc-405e-a44d-bd1d2de8639b",
   "metadata": {},
   "source": [
    "# Q9. Write a program to reverse a stack."
   ]
  },
  {
   "cell_type": "code",
   "execution_count": 14,
   "id": "84a35949-1ce0-4097-a87e-1c58805dc025",
   "metadata": {},
   "outputs": [
    {
     "name": "stdout",
     "output_type": "stream",
     "text": [
      "[5, 4, 3, 2, 1]\n"
     ]
    }
   ],
   "source": [
    "def reverse_stack(stack):\n",
    "    if len(stack) == 0:\n",
    "        return\n",
    "    item = stack.pop()\n",
    "    reverse_stack(stack)\n",
    "    insert_at_bottom(stack, item)\n",
    "\n",
    "def insert_at_bottom(stack, item):\n",
    "    if len(stack) == 0:\n",
    "        stack.append(item)\n",
    "        return\n",
    "    temp = stack.pop()\n",
    "    insert_at_bottom(stack, item)\n",
    "    stack.append(temp)\n",
    "stack = [1, 2, 3, 4, 5]\n",
    "reverse_stack(stack)\n",
    "print(stack)"
   ]
  },
  {
   "cell_type": "markdown",
   "id": "bfb9b45d-76e8-411f-b9e9-61e995ab380a",
   "metadata": {},
   "source": [
    "# Q10. Write a program to find the smallest number using a stack."
   ]
  },
  {
   "cell_type": "code",
   "execution_count": 15,
   "id": "73d83e77-568f-40fd-96c2-c8d45831507a",
   "metadata": {},
   "outputs": [
    {
     "name": "stdout",
     "output_type": "stream",
     "text": [
      "The smallest number is: 1\n"
     ]
    }
   ],
   "source": [
    "def find_smallest(numbers):\n",
    "    stack = []\n",
    "\n",
    "    # Push the first number onto the stack\n",
    "    stack.append(numbers[0])\n",
    "\n",
    "    # Loop through the rest of the numbers\n",
    "    for i in range(1, len(numbers)):\n",
    "        # If the current number is smaller than the top of the stack, replace it\n",
    "        if numbers[i] < stack[-1]:\n",
    "            stack[-1] = numbers[i]\n",
    "\n",
    "    # The top of the stack will now contain the smallest number\n",
    "    return stack[-1]\n",
    "\n",
    "# Example usage\n",
    "numbers = [4, 2, 9, 1, 7, 6, 8, 3, 5]\n",
    "smallest = find_smallest(numbers)\n",
    "print(\"The smallest number is:\", smallest)\n"
   ]
  }
 ],
 "metadata": {
  "kernelspec": {
   "display_name": "Python 3 (ipykernel)",
   "language": "python",
   "name": "python3"
  },
  "language_info": {
   "codemirror_mode": {
    "name": "ipython",
    "version": 3
   },
   "file_extension": ".py",
   "mimetype": "text/x-python",
   "name": "python",
   "nbconvert_exporter": "python",
   "pygments_lexer": "ipython3",
   "version": "3.11.1"
  }
 },
 "nbformat": 4,
 "nbformat_minor": 5
}
